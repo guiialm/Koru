{
 "cells": [
  {
   "cell_type": "markdown",
   "metadata": {},
   "source": [
    "## Exercício 1: Análise de Idades\n",
    "\n",
    "**Objetivo:** Escreva uma função que receba um DataFrame contendo nomes, idades e cidades de pessoas. A função deve retornar um novo DataFrame com a média de idade das pessoas para cada cidade.\n",
    "\n",
    "**Dados:** \n",
    "1. **Nome:** Contém o nome de uma pessoa. É uma string.\n",
    "2. **Idade:** Apresenta a idade da pessoa. É um número inteiro.\n",
    "3. **Cidade:** Indica a cidade onde a pessoa reside. É uma string.\n",
    "\n",
    "**Exemplo de dados:**\n",
    "```\n",
    "    Nome    | Idade |     Cidade     \n",
    "------------|-------|----------------\n",
    "    Ana     |  23   |   São Paulo    \n",
    "  Carlos    |  45   | Rio de Janeiro \n",
    "  Beatriz   |  30   | Belo Horizonte \n",
    "    David   |  37   |  Porto Alegre  \n",
    "  Eliana    |  29   |    Salvador    \n",
    "```\n",
    "\n",
    "**Estrutura do Código:**"
   ]
  },
  {
   "cell_type": "code",
   "execution_count": null,
   "metadata": {},
   "outputs": [],
   "source": [
    "import pandas as pd\n",
    "\n",
    "def calcular_media_idade_por_cidade(df):\n",
    "    # Seu código aqui\n",
    "    return df_media_idades\n",
    "\n",
    "# Carregar o DataFrame\n",
    "df = pd.read_csv('caminho_para_o_dataframe_exercicio_1.csv')\n",
    "\n",
    "# Utilizar a função e imprimir o resultado\n",
    "print(calcular_media_idade_por_cidade(df))"
   ]
  },
  {
   "cell_type": "markdown",
   "metadata": {},
   "source": [
    "## Exercício 2: Total de Vendas por Loja\n",
    "\n",
    "**Objetivo:** Desenvolva uma função que receba um DataFrame com datas, valores de vendas e identificação da loja. A função deve calcular o total de vendas por loja.\n",
    "\n",
    "**Dados:** \n",
    "\n",
    "1. **Data:** A data em que as vendas foram realizadas. Está no formato `YYYY-MM-DD`.\n",
    "2. **Vendas:** O valor das vendas realizadas na data especificada. É um número inteiro ou decimal.\n",
    "3. **Loja:** Identifica a loja onde as vendas ocorreram. É uma string que pode ser, por exemplo, uma letra ou nome representando a loja.\n",
    "\n",
    "**Exemplo de dados:**\n",
    "```\n",
    "     Data     | Vendas | Loja \n",
    "---------------|--------|------\n",
    " 2023-01-01    |  100   |  A   \n",
    " 2023-01-02    |  150   |  B   \n",
    " 2023-01-03    |  120   |  C   \n",
    " 2023-01-04    |  130   |  A   \n",
    " 2023-01-05    |  140   |  B   \n",
    " 2023-01-06    |  110   |  C   \n",
    "```\n",
    "\n",
    "**Estrutura do Código:**"
   ]
  },
  {
   "cell_type": "code",
   "execution_count": null,
   "metadata": {},
   "outputs": [],
   "source": [
    "import pandas as pd\n",
    "\n",
    "def calcular_total_vendas_por_loja(df):\n",
    "    # Seu código aqui\n",
    "    return df_total_vendas\n",
    "\n",
    "# Carregar o DataFrame\n",
    "df = pd.read_csv('caminho_para_o_dataframe_exercicio_2.csv')\n",
    "\n",
    "# Utilizar a função e imprimir o resultado\n",
    "print(calcular_total_vendas_por_loja(df))"
   ]
  },
  {
   "cell_type": "markdown",
   "metadata": {},
   "source": [
    "## Exercício 3: Análise de Vendas de Produtos\n",
    "\n",
    "**Objetivo:** Escreva uma função que processe um DataFrame contendo informações sobre produtos, incluindo categoria, preço, quantidade e data de venda. A função deve calcular o faturamento total por categoria e a quantidade média de produtos vendidos por categoria.\n",
    "\n",
    "**Dados:**\n",
    "\n",
    "Produto: Nome do produto vendido.\n",
    "Categoria: Categoria do produto.\n",
    "Preço: Preço unitário do produto.\n",
    "Quantidade: Quantidade de produtos vendidos.\n",
    "Vendido_em: Data da venda.\n",
    "\n",
    "**Estrutura do Código:**"
   ]
  },
  {
   "cell_type": "code",
   "execution_count": null,
   "metadata": {},
   "outputs": [],
   "source": [
    "import pandas as pd\n",
    "\n",
    "def analise_vendas(df):\n",
    "    # Seu código aqui para calcular o faturamento total por categoria\n",
    "    # Seu código aqui para calcular a quantidade média de produtos vendidos por categoria\n",
    "    return df_faturamento_total, df_quantidade_media\n",
    "\n",
    "# Carregar o DataFrame\n",
    "df = pd.read_csv('caminho_para_o_dataframe_exercicio_3.csv')\n",
    "\n",
    "# Utilizar a função e imprimir o resultado\n",
    "faturamento_total, quantidade_media = analise_vendas(df)\n",
    "print(\"Faturamento Total por Categoria:\")\n",
    "print(faturamento_total)\n",
    "print(\"\\nQuantidade Média de Produtos Vendidos por Categoria:\")\n",
    "print(quantidade_media)\n"
   ]
  },
  {
   "cell_type": "markdown",
   "metadata": {},
   "source": [
    "## Exercício 4: Consumo de Energia e Relação com a Temperatura\n",
    "\n",
    "**Objetivo:** Desenvolva uma função que analise um DataFrame contendo dados de consumo de energia e temperatura em diferentes momentos do dia. A função deve calcular o consumo médio de energia por faixa de temperatura.\n",
    "\n",
    "**Dados:**\n",
    "\n",
    "Data: Data da medição.\n",
    "Hora: Hora da medição.\n",
    "Consumo_energia: Consumo de energia em um determinado momento.\n",
    "Temperatura: Temperatura ambiente no momento da medição.\n",
    "\n",
    "**Estrutura do Código:**"
   ]
  },
  {
   "cell_type": "code",
   "execution_count": null,
   "metadata": {},
   "outputs": [],
   "source": [
    "import pandas as pd\n",
    "\n",
    "def analise_consumo_energia(df):\n",
    "    # Seu código aqui para calcular o consumo médio de energia por faixa de temperatura\n",
    "    return df_consumo_medio\n",
    "\n",
    "# Carregar o DataFrame\n",
    "df = pd.read_csv('caminho_para_o_dataframe_exercicio_4.csv')\n",
    "\n",
    "# Utilizar a função e imprimir o resultado\n",
    "consumo_medio = analise_consumo_energia(df)\n",
    "print(\"Consumo Médio de Energia por Faixa de Temperatura:\")\n",
    "print(consumo_medio)"
   ]
  }
 ],
 "metadata": {
  "language_info": {
   "name": "python"
  }
 },
 "nbformat": 4,
 "nbformat_minor": 2
}
